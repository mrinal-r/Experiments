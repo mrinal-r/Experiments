{
  "nbformat": 4,
  "nbformat_minor": 0,
  "metadata": {
    "colab": {
      "name": "Word-Based-Text-Generator.ipynb",
      "version": "0.3.2",
      "provenance": [],
      "collapsed_sections": [
        "JEpB_uu0MBAl",
        "TXx4iof0Q4Wn",
        "tjT8nk3hSWja"
      ],
      "toc_visible": true,
      "include_colab_link": true
    },
    "kernelspec": {
      "name": "python3",
      "display_name": "Python 3"
    },
    "accelerator": "GPU"
  },
  "cells": [
    {
      "cell_type": "markdown",
      "metadata": {
        "id": "view-in-github",
        "colab_type": "text"
      },
      "source": [
        "<a href=\"https://colab.research.google.com/github/mrinal-r/Experiments/blob/master/Word_Based_Text_Generator.ipynb\" target=\"_parent\"><img src=\"https://colab.research.google.com/assets/colab-badge.svg\" alt=\"Open In Colab\"/></a>"
      ]
    },
    {
      "cell_type": "markdown",
      "metadata": {
        "id": "JEpB_uu0MBAl",
        "colab_type": "text"
      },
      "source": [
        "# Setup"
      ]
    },
    {
      "cell_type": "code",
      "metadata": {
        "id": "jafVWSuxL0Ca",
        "colab_type": "code",
        "colab": {
          "base_uri": "https://localhost:8080/",
          "height": 54
        },
        "outputId": "7cd54333-7135-4d84-87c0-07d332f6eead"
      },
      "source": [
        "# Mounting Google Drive\n",
        "\n",
        "from google.colab import drive\n",
        "drive.mount('/content/gdrive')\n",
        "\n"
      ],
      "execution_count": 1,
      "outputs": [
        {
          "output_type": "stream",
          "text": [
            "Drive already mounted at /content/gdrive; to attempt to forcibly remount, call drive.mount(\"/content/gdrive\", force_remount=True).\n"
          ],
          "name": "stdout"
        }
      ]
    },
    {
      "cell_type": "code",
      "metadata": {
        "id": "TYMG8FMGMiHf",
        "colab_type": "code",
        "colab": {}
      },
      "source": [
        "# Import all modules to be used in the project\n",
        "\n",
        "import string\n",
        "\n",
        "from keras.preprocessing.text import Tokenizer\n",
        "\n",
        "from numpy import array\n",
        "import numpy as np\n",
        "from keras.utils import to_categorical\n",
        "\n",
        "from pickle import dump\n",
        "\n",
        "from keras.preprocessing.sequence import pad_sequences\n",
        "\n",
        "from pickle import load\n",
        "from keras.models import load_model\n",
        "from random import randint\n",
        "\n",
        "from keras.models import Sequential\n",
        "from keras.layers import Dense\n",
        "from keras.layers import LSTM\n",
        "from keras.layers import Embedding\n",
        "\n",
        "from keras.utils import plot_model\n",
        "\n",
        "from keras.layers import Dense, Flatten, LSTM, Conv1D, MaxPooling1D, Dropout, Activation\n",
        "\n",
        "import matplotlib.pyplot as plt\n",
        "\n",
        "from math import floor\n",
        "\n",
        "from keras.callbacks import ModelCheckpoint\n",
        "\n",
        "from google.colab import files\n",
        "\n",
        "import keras\n",
        "\n"
      ],
      "execution_count": 0,
      "outputs": []
    },
    {
      "cell_type": "markdown",
      "metadata": {
        "id": "iimZBcsZNa2p",
        "colab_type": "text"
      },
      "source": [
        "# Functions\n",
        "\n",
        "This section contains functions used for data preprocessing, feature engineering, and utility functions"
      ]
    },
    {
      "cell_type": "code",
      "metadata": {
        "id": "IAMkQEaTflSi",
        "colab_type": "code",
        "colab": {}
      },
      "source": [
        "# Purpose: Load doc into memory\n",
        "# Input: file name\n",
        "# Output: text\n",
        "\n",
        "def load_doc(filename):\n",
        "\t# open the file as read only\n",
        "\tfile = open(filename, 'r')\n",
        "\t# read all text\n",
        "\ttext = file.read()\n",
        "\t# close the file\n",
        "\tfile.close()\n",
        "\treturn text\n"
      ],
      "execution_count": 0,
      "outputs": []
    },
    {
      "cell_type": "code",
      "metadata": {
        "id": "BpB5XaG4f4cN",
        "colab_type": "code",
        "colab": {}
      },
      "source": [
        "# Purpose: turn a doc into clean tokens\n",
        "# Input: document\n",
        "# Output: a list of tokens that are all in lowercase, have no special characters, split at white spaces\n",
        "\n",
        "def clean_doc(doc):\n",
        "\t# replace '--' with a space ' '\n",
        "\tdoc = doc.replace('--', ' ')\n",
        "\t# split into tokens by white space\n",
        "\ttokens = doc.split()\n",
        "\t# remove punctuation from each token ; string-to-replace, string-to-be-replaced-with, string-to-delete\n",
        "\ttable = str.maketrans('', '', string.punctuation)\n",
        "\ttokens = [w.translate(table) for w in tokens]\n",
        "\t# remove remaining tokens that are not alphabetic\n",
        "\ttokens = [word for word in tokens if word.isalpha()]\n",
        "\t# make lower case\n",
        "\ttokens = [word.lower() for word in tokens]\n",
        "\treturn tokens\n",
        "\n"
      ],
      "execution_count": 0,
      "outputs": []
    },
    {
      "cell_type": "code",
      "metadata": {
        "id": "vngMwI6fhvKZ",
        "colab_type": "code",
        "colab": {}
      },
      "source": [
        "# Purpose: organize into sequences of tokens\n",
        "# Input: document tokens, input sequence length\n",
        "# Output: document broken down into sequences seperated by WS\n",
        "\n",
        "def create_sequences(tokens, seq_length):\n",
        "  print('Input sequence length is %d'% seq_length)\n",
        "  # length = in_length + out_length\n",
        "  total_length = seq_length+1\n",
        "  #declare a variable to hold the sequences\n",
        "  doc_sequences = list()\n",
        "  for i in range(total_length, len(tokens)):\n",
        "    # list of tokens; list size = total sequence length\n",
        "    curr_line_seq = tokens[i-total_length:i]\n",
        "    # create one string sequence seperated by WS\n",
        "    curr_line = ' '.join(curr_line_seq)\n",
        "    # append it to list of such sequences\n",
        "    doc_sequences.append(curr_line)\n",
        "  return doc_sequences\n",
        "\n"
      ],
      "execution_count": 0,
      "outputs": []
    },
    {
      "cell_type": "code",
      "metadata": {
        "id": "aM-lk__rjGyr",
        "colab_type": "code",
        "colab": {}
      },
      "source": [
        "# Purpose: save a document\n",
        "# Input: document , filename\n",
        "# Output: none\n",
        "\n",
        "def save_doc(doc, doc_filename):\n",
        "\tdata = '\\n'.join(doc)\n",
        "\tfile = open(doc_filename, 'w')\n",
        "\tfile.write(data)\n",
        "\tfile.close()\n",
        "  \n",
        " \n"
      ],
      "execution_count": 0,
      "outputs": []
    },
    {
      "cell_type": "code",
      "metadata": {
        "id": "wEqS4_TDjYwW",
        "colab_type": "code",
        "colab": {}
      },
      "source": [
        "# Purpose: load a file containing document as sequence\n",
        "# Input: filename\n",
        "# Output: document sequences\n",
        "\n",
        "def load_sequenced_doc(filename):\n",
        "\t# open the file as read only\n",
        "\tfile = open(filename, 'r')\n",
        "\t# read all text\n",
        "\tsaved_doc_sequences = file.read()\n",
        "\t# close the file\n",
        "\tfile.close()\n",
        "\treturn saved_doc_sequences\n",
        "\n"
      ],
      "execution_count": 0,
      "outputs": []
    },
    {
      "cell_type": "code",
      "metadata": {
        "id": "UXjpPZTpkAEE",
        "colab_type": "code",
        "colab": {}
      },
      "source": [
        "# Purpose: convert sequences to integer vectors\n",
        "# Input: list of sequences (text)\n",
        "# Output: list of sequences (int) (list of lists) , vocabulary size\n",
        "# Uses: save_tokenizer_artifacts\n",
        "\n",
        "def text_to_int_tokenize(text_seq, tokenizer_name):\n",
        "  # tokenize\n",
        "  tokenizer = Tokenizer()\n",
        "  tokenizer.fit_on_texts(text_seq)\n",
        "  int_seq = tokenizer.texts_to_sequences(text_seq)\n",
        "\n",
        "  # find the vocab size\n",
        "  vocab_size = len(tokenizer.word_index) + 1\n",
        "  save_tokenizer_artifacts(tokenizer, tokenizer_name)\n",
        "  return int_seq, vocab_size\n",
        "\n"
      ],
      "execution_count": 0,
      "outputs": []
    },
    {
      "cell_type": "code",
      "metadata": {
        "id": "QzJcAw3glWt_",
        "colab_type": "code",
        "colab": {}
      },
      "source": [
        "# Purpose: Create input and labels\n",
        "# Input: tokenized document sequences (), size of vocabulary\n",
        "# Output: inputs (), Labels ()\n",
        "\n",
        "def create_inputs_and_labels(tokenized_doc_seq, vocab_size):\n",
        "  # convert list to array\n",
        "  array_tokenized_doc_seq = array(tokenized_doc_seq)\n",
        "  inputs = array_tokenized_doc_seq[:,:-1]\n",
        "  labels = array_tokenized_doc_seq[:,-1]\n",
        "  # one hot encode labels; # columns = vocab size\n",
        "  labels = to_categorical(labels, num_classes=vocab_size)\n",
        "  return inputs,labels\n",
        "\n"
      ],
      "execution_count": 0,
      "outputs": []
    },
    {
      "cell_type": "code",
      "metadata": {
        "id": "7VfIDGDnvwpa",
        "colab_type": "code",
        "colab": {}
      },
      "source": [
        "# Purpose: Save tokenizer to file\n",
        "# Input: tokenizer(model), name\n",
        "# Output: file saved in your temp workspace\n",
        "\n",
        "def save_tokenizer_artifacts(tokenizer, tokenizer_name):\n",
        "  \n",
        "  # save the tokenizer\n",
        "  dump(tokenizer, open(tokenizer_name, 'wb'))\n",
        "  \n",
        "  files.download(tokenizer_name)\n",
        "  \n"
      ],
      "execution_count": 0,
      "outputs": []
    },
    {
      "cell_type": "code",
      "metadata": {
        "id": "URXAOFL_v9nX",
        "colab_type": "code",
        "colab": {}
      },
      "source": [
        "# Purpose: Save model to file\n",
        "# Input: model, name\n",
        "# Output: file saved in your temp workspace\n",
        "\n",
        "def save_model_artifacts(model_name, model):\n",
        "  # save the model to file\n",
        "  model.save(model_name)\n",
        "  \n",
        "  files.download(model_name)\n",
        "  \n",
        "  "
      ],
      "execution_count": 0,
      "outputs": []
    },
    {
      "cell_type": "code",
      "metadata": {
        "id": "JLjjGsanoy-O",
        "colab_type": "code",
        "colab": {}
      },
      "source": [
        "# Purpose: Generates the next n words in the sequence using trained model\n",
        "# Input: model, tokenizer, seed text, length of sequence and # words to be predicted\n",
        "# Output: concatenated predicted words\n",
        "\n",
        "def generate_seq(model, tokenizer, input_seq_length, in_text, n_words):\n",
        "\tresult = list()\n",
        "\t# generate a fixed number of words\n",
        "\tfor _ in range(n_words):\n",
        "\t\t# encode the text as integer\n",
        "\t\tin_text_encoded = tokenizer.texts_to_sequences([in_text])[0]\n",
        "\t\t# truncate sequences to a fixed length\n",
        "\t\tin_text_encoded = pad_sequences([in_text_encoded], maxlen=input_seq_length, truncating='pre')\n",
        "\t\t# predict probabilities for each word\n",
        "\t\tnext_word_int = model.predict_classes(encoded, verbose=0)\n",
        "\t\t# map predicted word index to word\n",
        "\t\tout_word = ''\n",
        "\t\tfor word, index in tokenizer.word_index.items():\n",
        "\t\t\tif index == next_word_int:\n",
        "\t\t\t\tout_word = word\n",
        "\t\t\t\tbreak\n",
        "\t\t# append to input\n",
        "\t\tin_text += ' ' + out_word\n",
        "\t\tresult.append(out_word)\n",
        "\treturn ' '.join(result)\n",
        "\n"
      ],
      "execution_count": 0,
      "outputs": []
    },
    {
      "cell_type": "code",
      "metadata": {
        "id": "CM__vml9pPWp",
        "colab_type": "code",
        "colab": {}
      },
      "source": [
        "# Purpose: wrapper function for generate_seq\n",
        "# Input: name of the file containing the test sequences, name of the model and the tokenizer\n",
        "# Output: seed text and generated text\n",
        "# Uses: generate_seq()\n",
        "\n",
        "def predict_from_seed_data(in_filename, model_name, tokenizer_name):\n",
        "  \n",
        "  # load cleaned text sequences: list oflists\n",
        "  text_sequence_doc = load_doc(in_filename)\n",
        "  text_sequence_lines = text_sequence_doc.split('\\n')\n",
        "  \n",
        "  # load the model\n",
        "  my_model = load_model(model_name)\n",
        "  \n",
        "  # load the tokenizer\n",
        "  my_tokenizer = load(open(tokenizer_name, 'rb'))\n",
        "  \n",
        "  seed_text = text_sequence_lines[randint(0,len(text_sequence_lines))]\n",
        "  print(seed_text + '\\n')\n",
        "  \n",
        "  input_seq_length = len(text_sequence_lines[0].split()) - 1\n",
        "  generated_text = generate_seq(my_model, my_tokenizer, input_seq_length, seed_text, 50)\n",
        "  \n",
        "  return seed_text, generated_text\n",
        "\n"
      ],
      "execution_count": 0,
      "outputs": []
    },
    {
      "cell_type": "code",
      "metadata": {
        "id": "UBcWRVKnUrSb",
        "colab_type": "code",
        "colab": {}
      },
      "source": [
        "def plot_acc_loss(model):\n",
        "  plt.plot(model.history['acc'])\n",
        "  plt.title('model accuracy')\n",
        "  plt.ylabel('accuracy')\n",
        "  plt.xlabel('epoch')\n",
        "  plt.legend(['train'], loc='upper left')\n",
        "  plt.show()\n",
        "\n",
        "  plt.plot(model.history['loss'])\n",
        "  plt.title('model loss')\n",
        "  plt.ylabel('loss')\n",
        "  plt.xlabel('epoch')\n",
        "  plt.legend(['train'], loc='upper left')\n",
        "  plt.show()\n",
        "\n"
      ],
      "execution_count": 0,
      "outputs": []
    },
    {
      "cell_type": "markdown",
      "metadata": {
        "id": "VvJdLR17Q0iC",
        "colab_type": "text"
      },
      "source": [
        "# Models"
      ]
    },
    {
      "cell_type": "markdown",
      "metadata": {
        "id": "TXx4iof0Q4Wn",
        "colab_type": "text"
      },
      "source": [
        "# Model 1: Embedding - LSTM - Dense\n",
        "\n",
        "This is one of the models used for benchmarking\n"
      ]
    },
    {
      "cell_type": "code",
      "metadata": {
        "id": "5cuta8QhROC2",
        "colab_type": "code",
        "colab": {}
      },
      "source": [
        "# Dependencies on inputs: Vocabulary size(from tokenizer), input sequence length\n",
        "# tweakable factors: Output dim of embedding layer that determines the compactness of the embedding vector\n",
        "\n",
        "def Embed_LSTM_Dense(vocab_size, input_seq_length):\n",
        "  model = Sequential()\n",
        "  model.add(Embedding(input_dim = vocab_size, \n",
        "                      output_dim = 50, \n",
        "                      input_length=input_seq_length))\n",
        "  model.add(LSTM(100, return_sequences=True))\n",
        "  model.add(LSTM(10))\n",
        "  model.add(Dense(100, activation='relu'))\n",
        "  model.add(Dense(vocab_size, activation='softmax'))\n",
        "  return model\n",
        "\n"
      ],
      "execution_count": 0,
      "outputs": []
    },
    {
      "cell_type": "code",
      "metadata": {
        "id": "jewSiZjhSNJ7",
        "colab_type": "code",
        "colab": {}
      },
      "source": [
        "# run this after all the data is prepped\n",
        "\n",
        "# Create\n",
        "Embed_LSTM_Dense_model = Embed_LSTM_Dense(sizeof_vocab, X_data.shape[1])\n",
        "\n",
        "# print summary\n",
        "print(Embed_LSTM_Dense_model.summary())\n",
        "\n",
        "# compile model\n",
        "Embed_LSTM_Dense_model.compile(loss='categorical_crossentropy', \n",
        "                               optimizer='adam', \n",
        "                               metrics=['accuracy'])\n",
        "\n",
        "# fit model\n",
        "Embed_LSTM_Dense_model_history = Embed_LSTM_Dense_model.fit(X_data, \n",
        "                                                            Y_data, \n",
        "                                                            batch_size=128, \n",
        "                                                            epochs=1) \n",
        "\n",
        "# print model\n",
        "print_model(Embed_LSTM_Dense_model, 'Embed_LSTM_Dense_model.png')\n",
        "\n",
        "# save model\n",
        "model_name = 'model_1.h5'\n",
        "\n",
        "save_model_artifacts(model_name, Embed_LSTM_Dense_model)\n",
        "\n"
      ],
      "execution_count": 0,
      "outputs": []
    },
    {
      "cell_type": "markdown",
      "metadata": {
        "id": "tjT8nk3hSWja",
        "colab_type": "text"
      },
      "source": [
        "# Model 2: Embedding - Convolutional - LSTM - Dense\n",
        "\n",
        "Used for benchmarking."
      ]
    },
    {
      "cell_type": "code",
      "metadata": {
        "id": "KkMJ1WTMsfdG",
        "colab_type": "code",
        "colab": {}
      },
      "source": [
        "# Dependencies on inputs: Vocabulary size(from tokenizer), input sequence length\n",
        "# tweakable factors: Output dim of embedding layer that determines the compactness of the embedding vector, Drop out rate\n",
        "\n",
        "def Embed_Conv_LSTM_Dense(vocab_size, input_seq_length):\n",
        "    model = Sequential()\n",
        "    model.add(Embedding(input_dim = vocab_size, \n",
        "                             output_dim = 100, \n",
        "                             input_length=input_seq_length))\n",
        "    model.add(Dropout(0.2))\n",
        "    model.add(Conv1D(64, 5, activation='relu'))\n",
        "    model.add(MaxPooling1D(pool_size=4))\n",
        "    model.add(LSTM(100))\n",
        "    model.add(Dense(50, activation='relu'))\n",
        "    model.add(Dense(vocab_size, activation='softmax'))\n",
        "    return model\n",
        "  \n",
        "  "
      ],
      "execution_count": 0,
      "outputs": []
    },
    {
      "cell_type": "code",
      "metadata": {
        "id": "SDNRpQP7yCwG",
        "colab_type": "code",
        "colab": {}
      },
      "source": [
        "# run this after all the data is prepped\n",
        "\n",
        "# Create\n",
        "Embed_Conv_LSTM_Dense_model = Embed_Conv_LSTM_Dense(sizeof_vocab, X_data.shape[1])\n",
        "\n",
        "# print summary\n",
        "print(Embed_Conv_LSTM_Dense_model.summary())\n",
        "\n",
        "# compile model\n",
        "Embed_Conv_LSTM_Dense_model.compile(loss='categorical_crossentropy', \n",
        "                                    optimizer='adam', \n",
        "                                    metrics=['accuracy'])\n",
        "\n",
        "# fit model\n",
        "Embed_Conv_LSTM_Dense_model.fit(X_data, \n",
        "                                Y_data, \n",
        "                                batch_size=128, \n",
        "                                epochs=1) \n",
        "\n",
        "# print model\n",
        "print_model(Embed_Conv_LSTM_Dense_model, 'Embed_Conv_LSTM_Dense_model.png')\n",
        "\n",
        "# save model\n",
        "model_name = 'model_2.h5'\n",
        "\n",
        "save_model_artifacts(model_name, Embed_Conv_LSTM_Dense_model)\n",
        "\n"
      ],
      "execution_count": 0,
      "outputs": []
    },
    {
      "cell_type": "markdown",
      "metadata": {
        "id": "kChHOcsISrBr",
        "colab_type": "text"
      },
      "source": [
        "# Model 3: Embedding - LSTM - Dense (My model)\n",
        "\n",
        "Simple architecture that would help understand the behavior of the model. This model also gives me flexibility to change parameters and understand the relationship of parameters to output.\n",
        "\n",
        "Simple 4 layer model with input sequence = 0.5 of output dimentionality of embedding layer and output dimentionality of embedding layer = # units of LSTM layer that follows.\n",
        "\n",
        "Lets implement callbacks here since we know this model works well with the previous data set. So with a bigger text, we would like to save our model along the way so that we have something to work with of the session crashes."
      ]
    },
    {
      "cell_type": "code",
      "metadata": {
        "id": "QV_JVoNXd4pb",
        "colab_type": "code",
        "colab": {}
      },
      "source": [
        "# Dependencies on inputs: Vocabulary size(from tokenizer), input sequence length\n",
        "# tweakable factors: None as of now since this model converges well and gives impressive results\n",
        "# number at the end indicates number of layers\n",
        "# Observations: # dims for embed layer = # LSTM units = # Dense units - kept on purpose\n",
        "# might consider experimenting later to see if performance is affected\n",
        "\n",
        "def Embed_LSTM_Dense_4(vocab_size, input_seq_length):\n",
        "    model = Sequential()\n",
        "    model.add(Embedding(input_dim = vocab_size, \n",
        "                    output_dim = 100, \n",
        "                    input_length = input_seq_length))\n",
        "    # input: (samples = 2338, features = 50)\n",
        "    # output: (timesteps = 2338, samples = 50, features = 100)\n",
        "    # added dropout when it performed bad with validation data\n",
        "    model.add(LSTM(units = 100, \n",
        "                   dropout = 0.5,\n",
        "                   recurrent_dropout = 0.2,\n",
        "                   activation = 'tanh', \n",
        "                   use_bias = 'False'))\n",
        "    # output: (None, 100) \n",
        "    model.add(Dense(100, activation='relu'))\n",
        "    # output: (None, 100) \n",
        "    # following layer should always have # units = dict size so that it matches the output\n",
        "    model.add(Dense(vocab_size, activation='softmax'))\n",
        "    # output: (None, 856) \n",
        "    # Shape of labels is: (2338, 856)\n",
        "    return model\n",
        "  \n",
        " "
      ],
      "execution_count": 0,
      "outputs": []
    },
    {
      "cell_type": "code",
      "metadata": {
        "id": "5FTVrZaAfk7x",
        "colab_type": "code",
        "colab": {
          "base_uri": "https://localhost:8080/",
          "height": 4569
        },
        "outputId": "ad619ac7-153e-41cb-8843-99601d7982b6"
      },
      "source": [
        "# run this after all the data is prepped\n",
        "\n",
        "model_name = 'model_3_pob.h5'\n",
        "\n",
        "# Create\n",
        "Embed_LSTM_Dense_4_model = Embed_LSTM_Dense_4(sizeof_vocab, X_data.shape[1])\n",
        "\n",
        "# print summary\n",
        "print(Embed_LSTM_Dense_4_model.summary())\n",
        "\n",
        "# compile model\n",
        "Embed_LSTM_Dense_4_model.compile(loss='categorical_crossentropy', \n",
        "                                 optimizer='adam', \n",
        "                                 metrics=['accuracy'])\n",
        "\n",
        "# adding a checkpoint| we monitor accuracy so the mode will be maximixed; for loss, its minimized\n",
        "# we can leave it as auto but I'm explicitely mentioning as max\n",
        "from keras.callbacks import ModelCheckpoint\n",
        "model_savepoint = keras.callbacks.ModelCheckpoint(filepath= model_name, \n",
        "                                                  monitor='acc', \n",
        "                                                  verbose = 0 ,\n",
        "                                                  save_best_only=True ,\n",
        "                                                  save_weights_only=False, \n",
        "                                                  mode='max', \n",
        "                                                  period=1)\n",
        "\n",
        "\n",
        "# fit model\n",
        "Embed_LSTM_Dense_4_model_history = Embed_LSTM_Dense_4_model.fit(x = X_data, \n",
        "                                                                y = Y_data, \n",
        "                                                                callbacks = [model_savepoint],\n",
        "                                                                batch_size=128, \n",
        "                                                                epochs=100) \n",
        "\n",
        "# plot\n",
        "plot_acc_loss(Embed_LSTM_Dense_4_model_history)\n",
        "\n",
        "files.download(model_name)\n"
      ],
      "execution_count": 19,
      "outputs": [
        {
          "output_type": "stream",
          "text": [
            "_________________________________________________________________\n",
            "Layer (type)                 Output Shape              Param #   \n",
            "=================================================================\n",
            "embedding_2 (Embedding)      (None, 50, 100)           85600     \n",
            "_________________________________________________________________\n",
            "lstm_2 (LSTM)                (None, 100)               80400     \n",
            "_________________________________________________________________\n",
            "dense_3 (Dense)              (None, 100)               10100     \n",
            "_________________________________________________________________\n",
            "dense_4 (Dense)              (None, 856)               86456     \n",
            "=================================================================\n",
            "Total params: 262,556\n",
            "Trainable params: 262,556\n",
            "Non-trainable params: 0\n",
            "_________________________________________________________________\n",
            "None\n",
            "Epoch 1/100\n",
            "2338/2338 [==============================] - 2s 1ms/step - loss: 6.7308 - acc: 0.0252\n",
            "Epoch 2/100\n",
            "2338/2338 [==============================] - 2s 671us/step - loss: 6.0605 - acc: 0.0466\n",
            "Epoch 3/100\n",
            "2338/2338 [==============================] - 2s 687us/step - loss: 5.8109 - acc: 0.0744\n",
            "Epoch 4/100\n",
            "2338/2338 [==============================] - 2s 696us/step - loss: 5.7827 - acc: 0.0744\n",
            "Epoch 5/100\n",
            "2338/2338 [==============================] - 2s 679us/step - loss: 5.7574 - acc: 0.0744\n",
            "Epoch 6/100\n",
            "2338/2338 [==============================] - 2s 675us/step - loss: 5.7416 - acc: 0.0744\n",
            "Epoch 7/100\n",
            "2338/2338 [==============================] - 2s 689us/step - loss: 5.7094 - acc: 0.0744\n",
            "Epoch 8/100\n",
            "2338/2338 [==============================] - 2s 683us/step - loss: 5.6669 - acc: 0.0744\n",
            "Epoch 9/100\n",
            "2338/2338 [==============================] - 2s 673us/step - loss: 5.6100 - acc: 0.0744\n",
            "Epoch 10/100\n",
            "2338/2338 [==============================] - 2s 692us/step - loss: 5.5490 - acc: 0.0744\n",
            "Epoch 11/100\n",
            "2338/2338 [==============================] - 2s 773us/step - loss: 5.4848 - acc: 0.0744\n",
            "Epoch 12/100\n",
            "2338/2338 [==============================] - 2s 777us/step - loss: 5.4106 - acc: 0.0761\n",
            "Epoch 13/100\n",
            "2338/2338 [==============================] - 2s 778us/step - loss: 5.3257 - acc: 0.0774\n",
            "Epoch 14/100\n",
            "2338/2338 [==============================] - 2s 783us/step - loss: 5.2330 - acc: 0.0817\n",
            "Epoch 15/100\n",
            "2338/2338 [==============================] - 2s 778us/step - loss: 5.1631 - acc: 0.0821\n",
            "Epoch 16/100\n",
            "2338/2338 [==============================] - 2s 712us/step - loss: 5.1050 - acc: 0.0920\n",
            "Epoch 17/100\n",
            "2338/2338 [==============================] - 2s 683us/step - loss: 5.0446 - acc: 0.0945\n",
            "Epoch 18/100\n",
            "2338/2338 [==============================] - 2s 684us/step - loss: 4.9936 - acc: 0.0907\n",
            "Epoch 19/100\n",
            "2338/2338 [==============================] - 2s 693us/step - loss: 4.9423 - acc: 0.0954\n",
            "Epoch 20/100\n",
            "2338/2338 [==============================] - 2s 682us/step - loss: 4.8802 - acc: 0.0992\n",
            "Epoch 21/100\n",
            "2338/2338 [==============================] - 2s 672us/step - loss: 4.8180 - acc: 0.0997\n",
            "Epoch 22/100\n",
            "2338/2338 [==============================] - 2s 701us/step - loss: 4.7684 - acc: 0.0988\n",
            "Epoch 23/100\n",
            "2338/2338 [==============================] - 2s 674us/step - loss: 4.7054 - acc: 0.1052\n",
            "Epoch 24/100\n",
            "2338/2338 [==============================] - 2s 681us/step - loss: 4.6356 - acc: 0.1069\n",
            "Epoch 25/100\n",
            "2338/2338 [==============================] - 2s 680us/step - loss: 4.5796 - acc: 0.1104\n",
            "Epoch 26/100\n",
            "2338/2338 [==============================] - 2s 699us/step - loss: 4.5119 - acc: 0.1022\n",
            "Epoch 27/100\n",
            "2338/2338 [==============================] - 2s 679us/step - loss: 4.4387 - acc: 0.1155\n",
            "Epoch 28/100\n",
            "2338/2338 [==============================] - 2s 673us/step - loss: 4.3529 - acc: 0.1228\n",
            "Epoch 29/100\n",
            "2338/2338 [==============================] - 2s 685us/step - loss: 4.2733 - acc: 0.1296\n",
            "Epoch 30/100\n",
            "2338/2338 [==============================] - 2s 673us/step - loss: 4.2008 - acc: 0.1373\n",
            "Epoch 31/100\n",
            "2338/2338 [==============================] - 2s 675us/step - loss: 4.1546 - acc: 0.1441\n",
            "Epoch 32/100\n",
            "2338/2338 [==============================] - 2s 679us/step - loss: 4.2377 - acc: 0.1416\n",
            "Epoch 33/100\n",
            "2338/2338 [==============================] - 2s 687us/step - loss: 4.1678 - acc: 0.1403\n",
            "Epoch 34/100\n",
            "2338/2338 [==============================] - 2s 675us/step - loss: 4.0492 - acc: 0.1561\n",
            "Epoch 35/100\n",
            "2338/2338 [==============================] - 2s 687us/step - loss: 4.0008 - acc: 0.1540\n",
            "Epoch 36/100\n",
            "2338/2338 [==============================] - 2s 693us/step - loss: 3.8753 - acc: 0.1719\n",
            "Epoch 37/100\n",
            "2338/2338 [==============================] - 2s 676us/step - loss: 3.8280 - acc: 0.1698\n",
            "Epoch 38/100\n",
            "2338/2338 [==============================] - 2s 689us/step - loss: 3.6806 - acc: 0.1963\n",
            "Epoch 39/100\n",
            "2338/2338 [==============================] - 2s 690us/step - loss: 3.5745 - acc: 0.2040\n",
            "Epoch 40/100\n",
            "2338/2338 [==============================] - 2s 680us/step - loss: 3.4978 - acc: 0.2126\n",
            "Epoch 41/100\n",
            "2338/2338 [==============================] - 2s 699us/step - loss: 3.4285 - acc: 0.2233\n",
            "Epoch 42/100\n",
            "2338/2338 [==============================] - 2s 686us/step - loss: 3.3754 - acc: 0.2280\n",
            "Epoch 43/100\n",
            "2338/2338 [==============================] - 2s 682us/step - loss: 3.2916 - acc: 0.2395\n",
            "Epoch 44/100\n",
            "2338/2338 [==============================] - 2s 692us/step - loss: 3.2180 - acc: 0.2357\n",
            "Epoch 45/100\n",
            "2338/2338 [==============================] - 2s 683us/step - loss: 3.1661 - acc: 0.2485\n",
            "Epoch 46/100\n",
            "2338/2338 [==============================] - 2s 693us/step - loss: 3.0908 - acc: 0.2716\n",
            "Epoch 47/100\n",
            "2338/2338 [==============================] - 2s 676us/step - loss: 3.0256 - acc: 0.2827\n",
            "Epoch 48/100\n",
            "2338/2338 [==============================] - 2s 678us/step - loss: 2.9562 - acc: 0.2896\n",
            "Epoch 49/100\n",
            "2338/2338 [==============================] - 2s 721us/step - loss: 2.9096 - acc: 0.2913\n",
            "Epoch 50/100\n",
            "2338/2338 [==============================] - 2s 786us/step - loss: 2.8559 - acc: 0.3118\n",
            "Epoch 51/100\n",
            "2338/2338 [==============================] - 2s 817us/step - loss: 2.7917 - acc: 0.3131\n",
            "Epoch 52/100\n",
            "2338/2338 [==============================] - 2s 819us/step - loss: 2.7463 - acc: 0.3353\n",
            "Epoch 53/100\n",
            "2338/2338 [==============================] - 2s 818us/step - loss: 2.6666 - acc: 0.3494\n",
            "Epoch 54/100\n",
            "2338/2338 [==============================] - 2s 814us/step - loss: 2.6197 - acc: 0.3653\n",
            "Epoch 55/100\n",
            "2338/2338 [==============================] - 2s 801us/step - loss: 2.5660 - acc: 0.3717\n",
            "Epoch 56/100\n",
            "2338/2338 [==============================] - 2s 741us/step - loss: 2.5092 - acc: 0.3794\n",
            "Epoch 57/100\n",
            "2338/2338 [==============================] - 2s 677us/step - loss: 2.4650 - acc: 0.3730\n",
            "Epoch 58/100\n",
            "2338/2338 [==============================] - 2s 746us/step - loss: 2.4153 - acc: 0.3905\n",
            "Epoch 59/100\n",
            "2338/2338 [==============================] - 2s 777us/step - loss: 2.3587 - acc: 0.4042\n",
            "Epoch 60/100\n",
            "2338/2338 [==============================] - 2s 765us/step - loss: 2.3052 - acc: 0.4239\n",
            "Epoch 61/100\n",
            "2338/2338 [==============================] - 2s 775us/step - loss: 2.2424 - acc: 0.4380\n",
            "Epoch 62/100\n",
            "2338/2338 [==============================] - 2s 774us/step - loss: 2.2088 - acc: 0.4525\n",
            "Epoch 63/100\n",
            "2338/2338 [==============================] - 2s 756us/step - loss: 2.1578 - acc: 0.4589\n",
            "Epoch 64/100\n",
            "2338/2338 [==============================] - 2s 677us/step - loss: 2.1183 - acc: 0.4683\n",
            "Epoch 65/100\n",
            "2338/2338 [==============================] - 2s 717us/step - loss: 2.0738 - acc: 0.4726\n",
            "Epoch 66/100\n",
            "2338/2338 [==============================] - 2s 702us/step - loss: 2.0304 - acc: 0.4850\n",
            "Epoch 67/100\n",
            "2338/2338 [==============================] - 2s 676us/step - loss: 1.9989 - acc: 0.5021\n",
            "Epoch 68/100\n",
            "2338/2338 [==============================] - 2s 686us/step - loss: 1.9729 - acc: 0.4927\n",
            "Epoch 69/100\n",
            "2338/2338 [==============================] - 2s 685us/step - loss: 1.9111 - acc: 0.5197\n",
            "Epoch 70/100\n",
            "2338/2338 [==============================] - 2s 692us/step - loss: 1.8798 - acc: 0.5167\n",
            "Epoch 71/100\n",
            "2338/2338 [==============================] - 2s 697us/step - loss: 1.8379 - acc: 0.5308\n",
            "Epoch 72/100\n",
            "2338/2338 [==============================] - 2s 678us/step - loss: 1.7963 - acc: 0.5436\n",
            "Epoch 73/100\n",
            "2338/2338 [==============================] - 2s 686us/step - loss: 1.7738 - acc: 0.5393\n",
            "Epoch 74/100\n",
            "2338/2338 [==============================] - 2s 682us/step - loss: 1.7184 - acc: 0.5624\n",
            "Epoch 75/100\n",
            "2338/2338 [==============================] - 2s 693us/step - loss: 1.6860 - acc: 0.5663\n",
            "Epoch 76/100\n",
            "2338/2338 [==============================] - 2s 699us/step - loss: 1.6533 - acc: 0.5787\n",
            "Epoch 77/100\n",
            "2338/2338 [==============================] - 2s 672us/step - loss: 1.5985 - acc: 0.5915\n",
            "Epoch 78/100\n",
            "2338/2338 [==============================] - 2s 685us/step - loss: 1.5846 - acc: 0.5847\n",
            "Epoch 79/100\n",
            "2338/2338 [==============================] - 2s 680us/step - loss: 1.5476 - acc: 0.5920\n",
            "Epoch 80/100\n",
            "2338/2338 [==============================] - 2s 680us/step - loss: 1.5321 - acc: 0.5950\n",
            "Epoch 81/100\n",
            "2338/2338 [==============================] - 2s 674us/step - loss: 1.4986 - acc: 0.6116\n",
            "Epoch 82/100\n",
            "2338/2338 [==============================] - 2s 685us/step - loss: 1.4418 - acc: 0.6364\n",
            "Epoch 83/100\n",
            "2338/2338 [==============================] - 2s 686us/step - loss: 1.4159 - acc: 0.6390\n",
            "Epoch 84/100\n",
            "2338/2338 [==============================] - 2s 675us/step - loss: 1.3823 - acc: 0.6467\n",
            "Epoch 85/100\n",
            "2338/2338 [==============================] - 2s 676us/step - loss: 1.3820 - acc: 0.6416\n",
            "Epoch 86/100\n",
            "2338/2338 [==============================] - 2s 674us/step - loss: 1.3478 - acc: 0.6506\n",
            "Epoch 87/100\n",
            "2338/2338 [==============================] - 2s 688us/step - loss: 1.2953 - acc: 0.6617\n",
            "Epoch 88/100\n",
            "2338/2338 [==============================] - 2s 698us/step - loss: 1.2803 - acc: 0.6771\n",
            "Epoch 89/100\n",
            "2338/2338 [==============================] - 2s 674us/step - loss: 1.2511 - acc: 0.6737\n",
            "Epoch 90/100\n",
            "2338/2338 [==============================] - 2s 688us/step - loss: 1.2629 - acc: 0.6745\n",
            "Epoch 91/100\n",
            "2338/2338 [==============================] - 2s 686us/step - loss: 1.2082 - acc: 0.6925\n",
            "Epoch 92/100\n",
            "2338/2338 [==============================] - 2s 682us/step - loss: 1.1948 - acc: 0.6938\n",
            "Epoch 93/100\n",
            "2338/2338 [==============================] - 2s 669us/step - loss: 1.1642 - acc: 0.7070\n",
            "Epoch 94/100\n",
            "2338/2338 [==============================] - 2s 691us/step - loss: 1.1358 - acc: 0.7190\n",
            "Epoch 95/100\n",
            "2338/2338 [==============================] - 2s 691us/step - loss: 1.1169 - acc: 0.7160\n",
            "Epoch 96/100\n",
            "2338/2338 [==============================] - 2s 676us/step - loss: 1.0815 - acc: 0.7198\n",
            "Epoch 97/100\n",
            "2338/2338 [==============================] - 2s 685us/step - loss: 1.0748 - acc: 0.7190\n",
            "Epoch 98/100\n",
            "2338/2338 [==============================] - 2s 685us/step - loss: 1.0596 - acc: 0.7151\n",
            "Epoch 99/100\n",
            "2338/2338 [==============================] - 2s 681us/step - loss: 1.0301 - acc: 0.7280\n",
            "Epoch 100/100\n",
            "2338/2338 [==============================] - 2s 680us/step - loss: 0.9978 - acc: 0.7417\n"
          ],
          "name": "stdout"
        },
        {
          "output_type": "display_data",
          "data": {
            "image/png": "[encoded data removed]",
            "text/plain": [
              "<Figure size 432x288 with 1 Axes>"
            ]
          },
          "metadata": {
            "tags": []
          }
        },
        {
          "output_type": "display_data",
          "data": {
            "image/png": "[encoded data removed]",
            "text/plain": [
              "<Figure size 432x288 with 1 Axes>"
            ]
          },
          "metadata": {
            "tags": []
          }
        },
        {
          "output_type": "error",
          "ename": "MessageError",
          "evalue": "ignored",
          "traceback": [
            "\u001b[0;31m---------------------------------------------------------------------------\u001b[0m",
            "\u001b[0;31mMessageError\u001b[0m                              Traceback (most recent call last)",
            "\u001b[0;32m<ipython-input-19-26e4b50275ec>\u001b[0m in \u001b[0;36m<module>\u001b[0;34m()\u001b[0m\n\u001b[1;32m     35\u001b[0m \u001b[0mplot_acc_loss\u001b[0m\u001b[0;34m(\u001b[0m\u001b[0mEmbed_LSTM_Dense_4_model_history\u001b[0m\u001b[0;34m)\u001b[0m\u001b[0;34m\u001b[0m\u001b[0;34m\u001b[0m\u001b[0m\n\u001b[1;32m     36\u001b[0m \u001b[0;34m\u001b[0m\u001b[0m\n\u001b[0;32m---> 37\u001b[0;31m \u001b[0mfiles\u001b[0m\u001b[0;34m.\u001b[0m\u001b[0mdownload\u001b[0m\u001b[0;34m(\u001b[0m\u001b[0mmodel_name\u001b[0m\u001b[0;34m)\u001b[0m\u001b[0;34m\u001b[0m\u001b[0;34m\u001b[0m\u001b[0m\n\u001b[0m",
            "\u001b[0;32m/usr/local/lib/python3.6/dist-packages/google/colab/files.py\u001b[0m in \u001b[0;36mdownload\u001b[0;34m(filename)\u001b[0m\n\u001b[1;32m    176\u001b[0m       \u001b[0;34m'port'\u001b[0m\u001b[0;34m:\u001b[0m \u001b[0mport\u001b[0m\u001b[0;34m,\u001b[0m\u001b[0;34m\u001b[0m\u001b[0;34m\u001b[0m\u001b[0m\n\u001b[1;32m    177\u001b[0m       \u001b[0;34m'path'\u001b[0m\u001b[0;34m:\u001b[0m \u001b[0m_os\u001b[0m\u001b[0;34m.\u001b[0m\u001b[0mpath\u001b[0m\u001b[0;34m.\u001b[0m\u001b[0mabspath\u001b[0m\u001b[0;34m(\u001b[0m\u001b[0mfilename\u001b[0m\u001b[0;34m)\u001b[0m\u001b[0;34m,\u001b[0m\u001b[0;34m\u001b[0m\u001b[0;34m\u001b[0m\u001b[0m\n\u001b[0;32m--> 178\u001b[0;31m       \u001b[0;34m'name'\u001b[0m\u001b[0;34m:\u001b[0m \u001b[0m_os\u001b[0m\u001b[0;34m.\u001b[0m\u001b[0mpath\u001b[0m\u001b[0;34m.\u001b[0m\u001b[0mbasename\u001b[0m\u001b[0;34m(\u001b[0m\u001b[0mfilename\u001b[0m\u001b[0;34m)\u001b[0m\u001b[0;34m,\u001b[0m\u001b[0;34m\u001b[0m\u001b[0;34m\u001b[0m\u001b[0m\n\u001b[0m\u001b[1;32m    179\u001b[0m   })\n",
            "\u001b[0;32m/usr/local/lib/python3.6/dist-packages/google/colab/output/_js.py\u001b[0m in \u001b[0;36meval_js\u001b[0;34m(script, ignore_result)\u001b[0m\n\u001b[1;32m     37\u001b[0m   \u001b[0;32mif\u001b[0m \u001b[0mignore_result\u001b[0m\u001b[0;34m:\u001b[0m\u001b[0;34m\u001b[0m\u001b[0;34m\u001b[0m\u001b[0m\n\u001b[1;32m     38\u001b[0m     \u001b[0;32mreturn\u001b[0m\u001b[0;34m\u001b[0m\u001b[0;34m\u001b[0m\u001b[0m\n\u001b[0;32m---> 39\u001b[0;31m   \u001b[0;32mreturn\u001b[0m \u001b[0m_message\u001b[0m\u001b[0;34m.\u001b[0m\u001b[0mread_reply_from_input\u001b[0m\u001b[0;34m(\u001b[0m\u001b[0mrequest_id\u001b[0m\u001b[0;34m)\u001b[0m\u001b[0;34m\u001b[0m\u001b[0;34m\u001b[0m\u001b[0m\n\u001b[0m\u001b[1;32m     40\u001b[0m \u001b[0;34m\u001b[0m\u001b[0m\n\u001b[1;32m     41\u001b[0m \u001b[0;34m\u001b[0m\u001b[0m\n",
            "\u001b[0;32m/usr/local/lib/python3.6/dist-packages/google/colab/_message.py\u001b[0m in \u001b[0;36mread_reply_from_input\u001b[0;34m(message_id, timeout_sec)\u001b[0m\n\u001b[1;32m    104\u001b[0m         reply.get('colab_msg_id') == message_id):\n\u001b[1;32m    105\u001b[0m       \u001b[0;32mif\u001b[0m \u001b[0;34m'error'\u001b[0m \u001b[0;32min\u001b[0m \u001b[0mreply\u001b[0m\u001b[0;34m:\u001b[0m\u001b[0;34m\u001b[0m\u001b[0;34m\u001b[0m\u001b[0m\n\u001b[0;32m--> 106\u001b[0;31m         \u001b[0;32mraise\u001b[0m \u001b[0mMessageError\u001b[0m\u001b[0;34m(\u001b[0m\u001b[0mreply\u001b[0m\u001b[0;34m[\u001b[0m\u001b[0;34m'error'\u001b[0m\u001b[0;34m]\u001b[0m\u001b[0;34m)\u001b[0m\u001b[0;34m\u001b[0m\u001b[0;34m\u001b[0m\u001b[0m\n\u001b[0m\u001b[1;32m    107\u001b[0m       \u001b[0;32mreturn\u001b[0m \u001b[0mreply\u001b[0m\u001b[0;34m.\u001b[0m\u001b[0mget\u001b[0m\u001b[0;34m(\u001b[0m\u001b[0;34m'data'\u001b[0m\u001b[0;34m,\u001b[0m \u001b[0;32mNone\u001b[0m\u001b[0;34m)\u001b[0m\u001b[0;34m\u001b[0m\u001b[0;34m\u001b[0m\u001b[0m\n\u001b[1;32m    108\u001b[0m \u001b[0;34m\u001b[0m\u001b[0m\n",
            "\u001b[0;31mMessageError\u001b[0m: TypeError: Failed to fetch"
          ]
        }
      ]
    },
    {
      "cell_type": "markdown",
      "metadata": {
        "id": "oDElo7EdTuF6",
        "colab_type": "text"
      },
      "source": [
        "# Data Preprocessing"
      ]
    },
    {
      "cell_type": "code",
      "metadata": {
        "id": "eLt0ybvCTx0v",
        "colab_type": "code",
        "colab": {
          "base_uri": "https://localhost:8080/",
          "height": 170
        },
        "outputId": "46bd05c0-e306-4221-c7c7-7627bd4c6df4"
      },
      "source": [
        "# variables for filenames\n",
        "text_name = 'APieceOfBread'\n",
        "\n",
        "# load document\n",
        "# Variable doc is just a string: <class 'str'>\n",
        "in_filename = \"/content/gdrive/My Drive/DL/\" + text_name + '.txt'\n",
        "doc = load_doc(in_filename)\n",
        "\n",
        "# clean document\n",
        "# Variable token is a list of strings(words): <class 'list'>\n",
        "tokens = clean_doc(doc)\n",
        "print('Total Tokens: %d' % len(tokens))\n",
        "print('Unique Tokens: %d' % len(set(tokens)))\n",
        "\n",
        "# create sequences from tokens\n",
        "# doc_to_sequences is a list of sequences of 50 words: <class 'list'>\n",
        "doc_to_sequences = list()\n",
        "sequence_length = 50\n",
        "\n",
        "# save sequences to file to be used later for prediction\n",
        "doc_to_sequences = create_sequences(tokens,sequence_length)\n",
        "print('Total Sequences: %d' % len(doc_to_sequences))\n",
        "\n",
        "# doc_lines_seq is a list of sequences of 50 words: <class 'list'>, each elemnt within that list is a string\n",
        "# print(type(doc_lines_seq)) : <class 'list'>\n",
        "# print(type(doc_lines_seq[0])) : <class 'str'>\n",
        "out_filename = text_name + '_sequences.txt'      # change this\n",
        "save_doc(doc_to_sequences, out_filename)\n",
        "\n",
        "# load saved text sequences. do this step if you already have the sequences created earlier\n",
        "in_filename = text_name + '_sequences.txt'      # change this\n",
        "doc_sequences = load_sequenced_doc(in_filename)\n",
        "# load it into a list for processing. Splitting into elemennts by newline\n",
        "doc_lines_seq = doc_sequences.split('\\n')\n",
        "print('Before tokenizing, sample length of input string sequence %d' % len(doc_lines_seq[0]))\n",
        "\n",
        "# Vectorize the sequences using tokenizer. A word to int mapping dictionary will be created\n",
        "# doc_lines_int_seq is a list of lists. Each sequence is a list\n",
        "# print(type(doc_lines_int_seq)) : <class 'list'>\n",
        "# print(type(doc_lines_int_seq[0])) : <class 'list'>\n",
        "tokenizer_name = text_name + '_tokenizer.pkl'      # change this\n",
        "doc_lines_int_seq, sizeof_vocab = text_to_int_tokenize(doc_lines_seq, tokenizer_name)\n",
        "\n",
        "# create data\n",
        "# X_data is 2D tensor (numpy array since data type is same) ; Y_data is 2D tensor\n",
        "# X_data is <class 'numpy.ndarray'> with dimensions # samples, features = words in sequence\n",
        "# Y_data is <class 'numpy.ndarray'> with dimension # samples, features = vocab size - sparse array\n",
        "print('After tokenizing/vectorizing, sample length of input integers sequence %d' % len(doc_lines_int_seq[0]))\n",
        "print('Size of the vocabulary build by the tokenizer %d' % sizeof_vocab)\n",
        "\n",
        "X_data, Y_data = create_inputs_and_labels(doc_lines_int_seq, sizeof_vocab)\n",
        "\n",
        "print(\"Shape of inputs is: {0}\".format(X_data.shape))\n",
        "print(\"Shape of labels is: {0}\".format(Y_data.shape))"
      ],
      "execution_count": 17,
      "outputs": [
        {
          "output_type": "stream",
          "text": [
            "Total Tokens: 2389\n",
            "Unique Tokens: 855\n",
            "Input sequence length is 50\n",
            "Total Sequences: 2338\n",
            "Before tokenizing, sample length of input string sequence 281\n",
            "After tokenizing/vectorizing, sample length of input integers sequence 51\n",
            "Size of the vocabulary build by the tokenizer 856\n",
            "Shape of inputs is: (2338, 50)\n",
            "Shape of labels is: (2338, 856)\n"
          ],
          "name": "stdout"
        }
      ]
    },
    {
      "cell_type": "markdown",
      "metadata": {
        "id": "b7fBj3bBrhBo",
        "colab_type": "text"
      },
      "source": [
        "# Predicting the next word"
      ]
    },
    {
      "cell_type": "code",
      "metadata": {
        "id": "th5Wmr9YrlWX",
        "colab_type": "code",
        "colab": {}
      },
      "source": [
        "# Model: Model 1\n",
        "\n",
        "in_filename = 'APieceOfBread_sequences.txt'     # we use the same file\n",
        "model_name = 'model_1.h5'\n",
        "tokenizer_name = 'tokenizer.pkl'\n",
        "\n",
        "seed_text, generated_text = predict_from_seed_data(in_filename, model_name, tokenizer_name)\n",
        "\n",
        "print(seed_text)\n",
        "print(generated_text)\n",
        "\n"
      ],
      "execution_count": 0,
      "outputs": []
    },
    {
      "cell_type": "code",
      "metadata": {
        "id": "ZI40K3ytrwoT",
        "colab_type": "code",
        "colab": {}
      },
      "source": [
        "# Model: Model 2\n",
        "\n",
        "in_filename = 'APieceOfBread_sequences.txt'     # we use the same file\n",
        "model_name = 'model_2.h5'\n",
        "tokenizer_name = 'tokenizer.pkl'\n",
        "seed_text, generated_text = predict_from_seed_data(in_filename, model_name, tokenizer_name)\n",
        "\n",
        "print(seed_text)\n",
        "print(generated_text)\n",
        "\n"
      ],
      "execution_count": 0,
      "outputs": []
    },
    {
      "cell_type": "code",
      "metadata": {
        "id": "JPrifB5Xr0TV",
        "colab_type": "code",
        "colab": {}
      },
      "source": [
        "# Model: Model 3\n",
        "\n",
        "in_filename = 'APieceOfBread_sequences.txt'     # we use the same file\n",
        "model_name = 'model_3_best_bread.h5'\n",
        "tokenizer_name = 'tokenizer.pkl'\n",
        "seed_text, generated_text = predict_from_seed_data(in_filename, model_name, tokenizer_name)\n",
        "\n",
        "print(\"With random seed data....\")\n",
        "print(seed_text)\n",
        "print(generated_text)\n",
        "\n"
      ],
      "execution_count": 0,
      "outputs": []
    }
  ]
}